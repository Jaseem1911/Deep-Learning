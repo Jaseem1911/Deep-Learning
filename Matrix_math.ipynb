{
  "nbformat": 4,
  "nbformat_minor": 0,
  "metadata": {
    "colab": {
      "provenance": []
    },
    "kernelspec": {
      "name": "python3",
      "display_name": "Python 3"
    },
    "language_info": {
      "name": "python"
    }
  },
  "cells": [
    {
      "cell_type": "code",
      "execution_count": null,
      "metadata": {
        "id": "VXtvujHzETaQ"
      },
      "outputs": [],
      "source": [
        "import numpy as np"
      ]
    },
    {
      "cell_type": "markdown",
      "source": [
        "Calculate profit/loss from revenue and expense"
      ],
      "metadata": {
        "id": "CKPd7ICCEaaG"
      }
    },
    {
      "cell_type": "code",
      "source": [
        "# it is a 2-dimensional array and should be considered as matrix\n",
        "\n",
        "revenue=np.array([[180,200,220],[24,36,40],[12,18,20]])\n",
        "expenses=np.array([[80,90,100],[10,16,20],[8,10,10]])"
      ],
      "metadata": {
        "id": "ek4i52AYEZXK"
      },
      "execution_count": null,
      "outputs": []
    },
    {
      "cell_type": "code",
      "source": [
        "# we can calculate the profit by simple subtraction. Numpy supports mathematical operation b/w dimensional arrays.\n",
        "profit=revenue-expenses\n",
        "profit"
      ],
      "metadata": {
        "colab": {
          "base_uri": "https://localhost:8080/"
        },
        "id": "AyGbigbUFnUm",
        "outputId": "46fbb7e7-5b9d-4fc1-ba3c-28baa7f3d60a"
      },
      "execution_count": null,
      "outputs": [
        {
          "output_type": "execute_result",
          "data": {
            "text/plain": [
              "array([[100, 110, 120],\n",
              "       [ 14,  20,  20],\n",
              "       [  4,   8,  10]])"
            ]
          },
          "metadata": {},
          "execution_count": 5
        }
      ]
    },
    {
      "cell_type": "markdown",
      "source": [
        "Calculate the total sales from units and price per unit using matrix multiplication"
      ],
      "metadata": {
        "id": "PXkyTUfxF_GA"
      }
    },
    {
      "cell_type": "code",
      "source": [
        "price_per_unit=np.array([1000,400,1200])\n",
        "units=np.array([[30,40,50],[5,10,15],[2,5,7]])"
      ],
      "metadata": {
        "id": "5lgmv0eGF6tm"
      },
      "execution_count": null,
      "outputs": []
    },
    {
      "cell_type": "code",
      "source": [
        "price_per_unit*units\n",
        "# NUMPY BROADCASTING"
      ],
      "metadata": {
        "colab": {
          "base_uri": "https://localhost:8080/"
        },
        "id": "koz547VQGlcH",
        "outputId": "3f57c6fd-cc94-4971-c578-7eef052edf4d"
      },
      "execution_count": null,
      "outputs": [
        {
          "output_type": "execute_result",
          "data": {
            "text/plain": [
              "array([[30000, 16000, 60000],\n",
              "       [ 5000,  4000, 18000],\n",
              "       [ 2000,  2000,  8400]])"
            ]
          },
          "metadata": {},
          "execution_count": 7
        }
      ]
    },
    {
      "cell_type": "markdown",
      "source": [
        "In above case numpy is using broadcasting so it expands price_per_unit array from 1 row, 3 columns to 3 row and 3 columns.\n",
        "Correct way to do matrix multiplication is to use dot product as shown below"
      ],
      "metadata": {
        "id": "eHT5EO2WGyKY"
      }
    },
    {
      "cell_type": "code",
      "source": [
        "np.dot(price_per_unit,units)"
      ],
      "metadata": {
        "colab": {
          "base_uri": "https://localhost:8080/"
        },
        "id": "PDVvoTchGvz3",
        "outputId": "c55e9fcf-2a0d-4d2d-bcd9-e68efb5ac95c"
      },
      "execution_count": null,
      "outputs": [
        {
          "output_type": "execute_result",
          "data": {
            "text/plain": [
              "array([34400, 50000, 64400])"
            ]
          },
          "metadata": {},
          "execution_count": 8
        }
      ]
    },
    {
      "cell_type": "code",
      "source": [],
      "metadata": {
        "id": "97TkqKUEHSBD"
      },
      "execution_count": null,
      "outputs": []
    }
  ]
}