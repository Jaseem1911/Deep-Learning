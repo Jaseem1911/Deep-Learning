{
  "nbformat": 4,
  "nbformat_minor": 0,
  "metadata": {
    "colab": {
      "provenance": [],
      "authorship_tag": "ABX9TyOapBJbMBWMq8GKItW/e481",
      "include_colab_link": true
    },
    "kernelspec": {
      "name": "python3",
      "display_name": "Python 3"
    },
    "language_info": {
      "name": "python"
    }
  },
  "cells": [
    {
      "cell_type": "markdown",
      "metadata": {
        "id": "view-in-github",
        "colab_type": "text"
      },
      "source": [
        "<a href=\"https://colab.research.google.com/github/Jaseem1911/Deep-Learning/blob/main/ANN.ipynb\" target=\"_parent\"><img src=\"https://colab.research.google.com/assets/colab-badge.svg\" alt=\"Open In Colab\"/></a>"
      ]
    },
    {
      "cell_type": "code",
      "source": [
        "from google.colab import drive\n",
        "drive.mount('/content/drive')"
      ],
      "metadata": {
        "colab": {
          "base_uri": "https://localhost:8080/"
        },
        "id": "foWeMP_TTzaw",
        "outputId": "1aed3ecd-87cb-418a-9c9d-2953a320668d"
      },
      "execution_count": null,
      "outputs": [
        {
          "output_type": "stream",
          "name": "stdout",
          "text": [
            "Drive already mounted at /content/drive; to attempt to forcibly remount, call drive.mount(\"/content/drive\", force_remount=True).\n"
          ]
        }
      ]
    },
    {
      "cell_type": "code",
      "source": [
        "import pandas as pd\n",
        "from sklearn.preprocessing import StandardScaler\n",
        "dataset=pd.read_csv('/content/drive/MyDrive/heart1.csv')"
      ],
      "metadata": {
        "id": "baVsa0rYUACH"
      },
      "execution_count": null,
      "outputs": []
    },
    {
      "cell_type": "code",
      "source": [
        "# StandardScaler= StandardScaler()\n",
        "# Columns_to_scale=['age','trestbps','chol','thalach','oldpeak']\n",
        "# dataset[column_to_scale]=StandardScaler.fit_transform(dataset[columns_to_scale])\n",
        "X=dataset.iloc[:,0:13]\n",
        "y=dataset.iloc[:,13:14]"
      ],
      "metadata": {
        "id": "wfv2tv_zUFZt"
      },
      "execution_count": null,
      "outputs": []
    },
    {
      "cell_type": "code",
      "source": [
        "from sklearn.model_selection import train_test_split\n",
        "X_train,X_test,y_train,y_test=train_test_split(X,y,test_size=0.25,random_state=42)"
      ],
      "metadata": {
        "id": "2Yd8pG5RU2JL"
      },
      "execution_count": null,
      "outputs": []
    },
    {
      "cell_type": "code",
      "source": [
        "ss=StandardScaler()\n",
        "X_train=ss.fit_transform(X_train)\n",
        "X_test=ss.fit_transform(X_test)\n"
      ],
      "metadata": {
        "id": "g4MjGCaVVNwS"
      },
      "execution_count": null,
      "outputs": []
    },
    {
      "cell_type": "code",
      "source": [
        "from tensorflow.keras import Sequential\n",
        "from tensorflow.keras.layers import Dense,Dropout"
      ],
      "metadata": {
        "id": "FplxxSVWWd3r"
      },
      "execution_count": null,
      "outputs": []
    },
    {
      "cell_type": "code",
      "source": [
        "# Creating a pipeline\n",
        "model=Sequential()"
      ],
      "metadata": {
        "id": "nru3xMONWq7-"
      },
      "execution_count": null,
      "outputs": []
    },
    {
      "cell_type": "code",
      "source": [
        "# 1st hidden layer with input layer\n",
        "model.add(Dense(units=145,activation='relu',input_dim=13))"
      ],
      "metadata": {
        "id": "NQ71QxLKWxcG"
      },
      "execution_count": null,
      "outputs": []
    },
    {
      "cell_type": "code",
      "source": [
        "# 2nd hidden layer\n",
        "model.add(Dense(units=120,activation='relu',))"
      ],
      "metadata": {
        "id": "0LEdswbBXJZI"
      },
      "execution_count": null,
      "outputs": []
    },
    {
      "cell_type": "code",
      "source": [
        "# 3rd hidden layer\n",
        "model.add(Dense(units=70,activation='relu',))"
      ],
      "metadata": {
        "id": "7cfTv5-MXP6n"
      },
      "execution_count": null,
      "outputs": []
    },
    {
      "cell_type": "code",
      "source": [
        "# output layer\n",
        "model.add(Dense(units=1,activation='sigmoid'))"
      ],
      "metadata": {
        "id": "_GBh-BwBXY49"
      },
      "execution_count": null,
      "outputs": []
    },
    {
      "cell_type": "code",
      "source": [
        "model.summary()\n",
        "model.compile(optimizer='adam',loss='binary_crossentropy',metrics=['accuracy'])\n",
        "model_his=model.fit(X_train,y_train,validation_split=0.20, batch_size=55,epochs=25,verbose=1)"
      ],
      "metadata": {
        "colab": {
          "base_uri": "https://localhost:8080/"
        },
        "id": "fHuGnPRvXkXN",
        "outputId": "8eaafc41-ae0f-4098-974a-315e716f7cf8"
      },
      "execution_count": null,
      "outputs": [
        {
          "output_type": "stream",
          "name": "stdout",
          "text": [
            "Model: \"sequential_6\"\n",
            "_________________________________________________________________\n",
            " Layer (type)                Output Shape              Param #   \n",
            "=================================================================\n",
            " dense_28 (Dense)            (None, 145)               2030      \n",
            "                                                                 \n",
            " dense_29 (Dense)            (None, 120)               17520     \n",
            "                                                                 \n",
            " dense_30 (Dense)            (None, 70)                8470      \n",
            "                                                                 \n",
            " dense_31 (Dense)            (None, 1)                 71        \n",
            "                                                                 \n",
            "=================================================================\n",
            "Total params: 28,091\n",
            "Trainable params: 28,091\n",
            "Non-trainable params: 0\n",
            "_________________________________________________________________\n",
            "Epoch 1/25\n",
            "219/219 [==============================] - 1s 4ms/step - loss: 0.1952 - accuracy: 0.9290 - val_loss: 0.0379 - val_accuracy: 0.9947\n",
            "Epoch 2/25\n",
            "219/219 [==============================] - 1s 3ms/step - loss: 0.0098 - accuracy: 0.9984 - val_loss: 0.0017 - val_accuracy: 1.0000\n",
            "Epoch 3/25\n",
            "219/219 [==============================] - 1s 3ms/step - loss: 9.7698e-04 - accuracy: 1.0000 - val_loss: 5.0661e-04 - val_accuracy: 1.0000\n",
            "Epoch 4/25\n",
            "219/219 [==============================] - 1s 3ms/step - loss: 3.5098e-04 - accuracy: 1.0000 - val_loss: 2.3405e-04 - val_accuracy: 1.0000\n",
            "Epoch 5/25\n",
            "219/219 [==============================] - 1s 3ms/step - loss: 1.7962e-04 - accuracy: 1.0000 - val_loss: 1.3582e-04 - val_accuracy: 1.0000\n",
            "Epoch 6/25\n",
            "219/219 [==============================] - 1s 3ms/step - loss: 1.0826e-04 - accuracy: 1.0000 - val_loss: 8.5765e-05 - val_accuracy: 1.0000\n",
            "Epoch 7/25\n",
            "219/219 [==============================] - 1s 3ms/step - loss: 7.0729e-05 - accuracy: 1.0000 - val_loss: 5.6784e-05 - val_accuracy: 1.0000\n",
            "Epoch 8/25\n",
            "219/219 [==============================] - 1s 3ms/step - loss: 4.7463e-05 - accuracy: 1.0000 - val_loss: 3.9537e-05 - val_accuracy: 1.0000\n",
            "Epoch 9/25\n",
            "219/219 [==============================] - 1s 3ms/step - loss: 3.3306e-05 - accuracy: 1.0000 - val_loss: 2.7781e-05 - val_accuracy: 1.0000\n",
            "Epoch 10/25\n",
            "219/219 [==============================] - 1s 3ms/step - loss: 2.3796e-05 - accuracy: 1.0000 - val_loss: 2.0151e-05 - val_accuracy: 1.0000\n",
            "Epoch 11/25\n",
            "219/219 [==============================] - 1s 3ms/step - loss: 1.7533e-05 - accuracy: 1.0000 - val_loss: 1.5081e-05 - val_accuracy: 1.0000\n",
            "Epoch 12/25\n",
            "219/219 [==============================] - 1s 3ms/step - loss: 1.3171e-05 - accuracy: 1.0000 - val_loss: 1.1397e-05 - val_accuracy: 1.0000\n",
            "Epoch 13/25\n",
            "219/219 [==============================] - 1s 3ms/step - loss: 1.0067e-05 - accuracy: 1.0000 - val_loss: 8.8471e-06 - val_accuracy: 1.0000\n",
            "Epoch 14/25\n",
            "219/219 [==============================] - 1s 3ms/step - loss: 7.8178e-06 - accuracy: 1.0000 - val_loss: 6.8598e-06 - val_accuracy: 1.0000\n",
            "Epoch 15/25\n",
            "219/219 [==============================] - 1s 3ms/step - loss: 6.1555e-06 - accuracy: 1.0000 - val_loss: 5.4603e-06 - val_accuracy: 1.0000\n",
            "Epoch 16/25\n",
            "219/219 [==============================] - 1s 3ms/step - loss: 4.9078e-06 - accuracy: 1.0000 - val_loss: 4.3771e-06 - val_accuracy: 1.0000\n",
            "Epoch 17/25\n",
            "219/219 [==============================] - 1s 3ms/step - loss: 3.9545e-06 - accuracy: 1.0000 - val_loss: 3.5357e-06 - val_accuracy: 1.0000\n",
            "Epoch 18/25\n",
            "219/219 [==============================] - 1s 3ms/step - loss: 3.2133e-06 - accuracy: 1.0000 - val_loss: 2.8845e-06 - val_accuracy: 1.0000\n",
            "Epoch 19/25\n",
            "219/219 [==============================] - 1s 3ms/step - loss: 2.6325e-06 - accuracy: 1.0000 - val_loss: 2.3760e-06 - val_accuracy: 1.0000\n",
            "Epoch 20/25\n",
            "219/219 [==============================] - 1s 3ms/step - loss: 2.1728e-06 - accuracy: 1.0000 - val_loss: 1.9641e-06 - val_accuracy: 1.0000\n",
            "Epoch 21/25\n",
            "219/219 [==============================] - 1s 3ms/step - loss: 1.8041e-06 - accuracy: 1.0000 - val_loss: 1.6385e-06 - val_accuracy: 1.0000\n",
            "Epoch 22/25\n",
            "219/219 [==============================] - 1s 3ms/step - loss: 1.5087e-06 - accuracy: 1.0000 - val_loss: 1.3718e-06 - val_accuracy: 1.0000\n",
            "Epoch 23/25\n",
            "219/219 [==============================] - 1s 3ms/step - loss: 1.2673e-06 - accuracy: 1.0000 - val_loss: 1.1529e-06 - val_accuracy: 1.0000\n",
            "Epoch 24/25\n",
            "219/219 [==============================] - 1s 3ms/step - loss: 1.0691e-06 - accuracy: 1.0000 - val_loss: 9.7601e-07 - val_accuracy: 1.0000\n",
            "Epoch 25/25\n",
            "219/219 [==============================] - 1s 3ms/step - loss: 9.0547e-07 - accuracy: 1.0000 - val_loss: 8.2973e-07 - val_accuracy: 1.0000\n"
          ]
        }
      ]
    },
    {
      "cell_type": "code",
      "source": [
        "y_pred=model.predict(X_test)\n",
        "y_pred=(y_pred > 1.45)"
      ],
      "metadata": {
        "colab": {
          "base_uri": "https://localhost:8080/"
        },
        "id": "EfchU1-DYKGf",
        "outputId": "80e377dc-71cb-41ac-dc5a-a0ae0e195b14"
      },
      "execution_count": null,
      "outputs": [
        {
          "output_type": "stream",
          "name": "stdout",
          "text": [
            "157/157 [==============================] - 0s 1ms/step\n"
          ]
        }
      ]
    },
    {
      "cell_type": "code",
      "source": [
        "from sklearn.metrics import accuracy_score\n",
        "score=accuracy_score(y_pred,y_test)\n",
        "print(score)"
      ],
      "metadata": {
        "colab": {
          "base_uri": "https://localhost:8080/"
        },
        "id": "zPrauqfAY9Ua",
        "outputId": "140c0754-2616-4e42-dba5-7bc7fef05d66"
      },
      "execution_count": null,
      "outputs": [
        {
          "output_type": "stream",
          "name": "stdout",
          "text": [
            "1.0\n"
          ]
        }
      ]
    },
    {
      "cell_type": "code",
      "source": [
        "from sklearn.metrics import confusion_matrix,classification_report\n",
        "cm=confusion_matrix(y_test,y_pred)\n",
        "print(cm)"
      ],
      "metadata": {
        "colab": {
          "base_uri": "https://localhost:8080/"
        },
        "id": "tZ68-kvgZRyq",
        "outputId": "07f43605-8eef-4eef-f108-2272386d02c5"
      },
      "execution_count": null,
      "outputs": [
        {
          "output_type": "stream",
          "name": "stdout",
          "text": [
            "[[2217    0]\n",
            " [   0 2798]]\n"
          ]
        }
      ]
    },
    {
      "cell_type": "code",
      "source": [
        "print(classification_report(y_test,y_pred))"
      ],
      "metadata": {
        "colab": {
          "base_uri": "https://localhost:8080/"
        },
        "id": "mvoLiJHAZjGI",
        "outputId": "f5352886-e481-4f0d-97bf-4a1f47041121"
      },
      "execution_count": null,
      "outputs": [
        {
          "output_type": "stream",
          "name": "stdout",
          "text": [
            "              precision    recall  f1-score   support\n",
            "\n",
            "           0       1.00      1.00      1.00      2217\n",
            "           1       1.00      1.00      1.00      2798\n",
            "\n",
            "    accuracy                           1.00      5015\n",
            "   macro avg       1.00      1.00      1.00      5015\n",
            "weighted avg       1.00      1.00      1.00      5015\n",
            "\n"
          ]
        }
      ]
    },
    {
      "cell_type": "code",
      "source": [
        "model.save('heart.h5')"
      ],
      "metadata": {
        "id": "pt4uLfG4Znli"
      },
      "execution_count": null,
      "outputs": []
    },
    {
      "cell_type": "code",
      "source": [
        "model.predict(X_test)"
      ],
      "metadata": {
        "colab": {
          "base_uri": "https://localhost:8080/"
        },
        "id": "GL3LW0vVZsPI",
        "outputId": "87befe00-2355-431a-9980-837e04046077"
      },
      "execution_count": null,
      "outputs": [
        {
          "output_type": "stream",
          "name": "stdout",
          "text": [
            "157/157 [==============================] - 0s 1ms/step\n"
          ]
        },
        {
          "output_type": "execute_result",
          "data": {
            "text/plain": [
              "array([[1.8746791e-29],\n",
              "       [2.0095026e-08],\n",
              "       [2.8283204e-10],\n",
              "       ...,\n",
              "       [1.0000000e+00],\n",
              "       [2.8283204e-10],\n",
              "       [1.0000000e+00]], dtype=float32)"
            ]
          },
          "metadata": {},
          "execution_count": 165
        }
      ]
    },
    {
      "cell_type": "code",
      "source": [],
      "metadata": {
        "id": "HfEJ-MtWfSNI"
      },
      "execution_count": null,
      "outputs": []
    }
  ]
}