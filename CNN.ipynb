{
  "nbformat": 4,
  "nbformat_minor": 0,
  "metadata": {
    "colab": {
      "provenance": [],
      "include_colab_link": true
    },
    "kernelspec": {
      "name": "python3",
      "display_name": "Python 3"
    },
    "language_info": {
      "name": "python"
    }
  },
  "cells": [
    {
      "cell_type": "markdown",
      "metadata": {
        "id": "view-in-github",
        "colab_type": "text"
      },
      "source": [
        "<a href=\"https://colab.research.google.com/github/Jaseem1911/Deep-Learning/blob/main/CNN.ipynb\" target=\"_parent\"><img src=\"https://colab.research.google.com/assets/colab-badge.svg\" alt=\"Open In Colab\"/></a>"
      ]
    },
    {
      "cell_type": "code",
      "execution_count": null,
      "metadata": {
        "id": "WtLaxoIpukSA"
      },
      "outputs": [],
      "source": [
        "import cv2\n",
        "from glob import glob\n",
        "import pathlib \n",
        "import numpy as np\n",
        "import pandas as pd\n",
        "import tensorflow as tf\n",
        "import matplotlib.pyplot as plt"
      ]
    },
    {
      "cell_type": "code",
      "source": [
        "from google.colab import drive\n",
        "drive.mount('/content/drive')"
      ],
      "metadata": {
        "colab": {
          "base_uri": "https://localhost:8080/"
        },
        "id": "lT74PdGg7AvI",
        "outputId": "0547b20c-3ffb-4f2d-dcea-54f430abf526"
      },
      "execution_count": null,
      "outputs": [
        {
          "output_type": "stream",
          "name": "stdout",
          "text": [
            "Drive already mounted at /content/drive; to attempt to forcibly remount, call drive.mount(\"/content/drive\", force_remount=True).\n"
          ]
        }
      ]
    },
    {
      "cell_type": "code",
      "source": [
        "from tensorflow.keras import Sequential\n",
        "from tensorflow.keras.layers import Flatten,Dense,Conv3D,MaxPool3D\n",
        "from tensorflow.keras.optimizers import Adam\n",
        "from tensorflow.keras.losses import SparseCategoricalCrossentropy"
      ],
      "metadata": {
        "id": "KEPF9Vt2u6hV"
      },
      "execution_count": null,
      "outputs": []
    },
    {
      "cell_type": "code",
      "source": [
        "disease_path=pathlib.Path(\"/content/drive/MyDrive/Fish/data\")"
      ],
      "metadata": {
        "id": "kfQoatGGu84J"
      },
      "execution_count": null,
      "outputs": []
    },
    {
      "cell_type": "code",
      "source": [
        "zero_list=list(disease_path.glob(\"0/*.jpg\"))          # *-shows all #(malignant/*)- shows all files inside the malignant folder\n",
        "one_list=list(disease_path.glob(\"1/*.jpg\"))\n",
        "two_list=list(disease_path.glob(\"2/*.jpg\"))\n",
        "three_list=list(disease_path.glob(\"3/*.jpg\"))\n",
        "four_list=list(disease_path.glob(\"4/*.jpg\"))\n",
        "five_list=list(disease_path.glob(\"5/*.jpg\"))"
      ],
      "metadata": {
        "id": "_L-kldQ6u8bS"
      },
      "execution_count": null,
      "outputs": []
    },
    {
      "cell_type": "code",
      "source": [
        "len(zero_list),len(one_list),len(two_list),len(three_list),len(four_list),len(five_list)"
      ],
      "metadata": {
        "colab": {
          "base_uri": "https://localhost:8080/"
        },
        "id": "EgTJ9qUJvSes",
        "outputId": "0961947c-9996-43d5-8e63-57b0b6c1b14c"
      },
      "execution_count": null,
      "outputs": [
        {
          "output_type": "execute_result",
          "data": {
            "text/plain": [
              "(497, 587, 481, 495, 476, 412)"
            ]
          },
          "metadata": {},
          "execution_count": 6
        }
      ]
    },
    {
      "cell_type": "code",
      "source": [
        "disease_dict={\"crab\":zero_list,\n",
        "              \"shark\":one_list,\n",
        "              \"penguin\":two_list,\n",
        "              \"starfish\":three_list,\n",
        "              \"seahorse\":four_list,\n",
        "              \"seal\":five_list}\n",
        "disease_class={\"crab\":0,\n",
        "              \"shark\":1,\n",
        "               \"penguin\":2,\n",
        "               \"starfish\":3,\n",
        "               \"seahorse\":4,\n",
        "               \"seal\":5\n",
        "              }"
      ],
      "metadata": {
        "id": "mrojq1sBvUuu"
      },
      "execution_count": null,
      "outputs": []
    },
    {
      "cell_type": "code",
      "source": [
        "x=[]\n",
        "y=[]"
      ],
      "metadata": {
        "id": "DFTrhoDFvW3M"
      },
      "execution_count": null,
      "outputs": []
    },
    {
      "cell_type": "code",
      "source": [
        "for i in disease_dict:\n",
        "  disease_name=i\n",
        "  disease_path_list=disease_dict[disease_name]\n",
        "  for path in disease_path_list:\n",
        "    img=cv2.imread(str(path))\n",
        "    img=cv2.resize(img,(224,224))\n",
        "    img=img/255\n",
        "    x.append(img)\n",
        "    cls=disease_class[disease_name]\n",
        "    y.append(cls)"
      ],
      "metadata": {
        "id": "_6IoxqpYvZJO"
      },
      "execution_count": null,
      "outputs": []
    },
    {
      "cell_type": "code",
      "source": [
        "len(x)"
      ],
      "metadata": {
        "id": "7ZeViB8ovdOG",
        "colab": {
          "base_uri": "https://localhost:8080/"
        },
        "outputId": "d45cb7a7-6004-4932-f081-7454136713bc"
      },
      "execution_count": null,
      "outputs": [
        {
          "output_type": "execute_result",
          "data": {
            "text/plain": [
              "2948"
            ]
          },
          "metadata": {},
          "execution_count": 10
        }
      ]
    },
    {
      "cell_type": "code",
      "source": [
        "x=np.array(x)\n",
        "y=np.array(y)"
      ],
      "metadata": {
        "id": "aqel_HYbvfKg"
      },
      "execution_count": null,
      "outputs": []
    },
    {
      "cell_type": "code",
      "source": [
        "from sklearn.model_selection import train_test_split"
      ],
      "metadata": {
        "id": "bJlEqTUUvhPS"
      },
      "execution_count": null,
      "outputs": []
    },
    {
      "cell_type": "code",
      "source": [
        "xtrain,xtest,ytrain,ytest=train_test_split(x,y,train_size=0.75,random_state=1)"
      ],
      "metadata": {
        "id": "knwW-SN7yRMn"
      },
      "execution_count": null,
      "outputs": []
    },
    {
      "cell_type": "code",
      "source": [
        "len(xtrain),len(ytrain),len(xtest),len(ytest)"
      ],
      "metadata": {
        "id": "v3d0t8auyYCP",
        "colab": {
          "base_uri": "https://localhost:8080/"
        },
        "outputId": "70d6010f-9d39-4ad8-e185-97bceacefdd2"
      },
      "execution_count": null,
      "outputs": [
        {
          "output_type": "execute_result",
          "data": {
            "text/plain": [
              "(2211, 2211, 737, 737)"
            ]
          },
          "metadata": {},
          "execution_count": 14
        }
      ]
    },
    {
      "cell_type": "code",
      "source": [
        "xtrain.shape"
      ],
      "metadata": {
        "id": "8huZLILByYkN",
        "colab": {
          "base_uri": "https://localhost:8080/"
        },
        "outputId": "f385cda8-06e8-4934-b602-807236b8a343"
      },
      "execution_count": null,
      "outputs": [
        {
          "output_type": "execute_result",
          "data": {
            "text/plain": [
              "(2211, 224, 224, 3)"
            ]
          },
          "metadata": {},
          "execution_count": 15
        }
      ]
    },
    {
      "cell_type": "code",
      "source": [
        "xtrain.shape,xtest.shape"
      ],
      "metadata": {
        "id": "mJ816C6DyavC",
        "colab": {
          "base_uri": "https://localhost:8080/"
        },
        "outputId": "8755739e-b3f5-43d8-fc01-fbb7bbca3bc5"
      },
      "execution_count": null,
      "outputs": [
        {
          "output_type": "execute_result",
          "data": {
            "text/plain": [
              "((2211, 224, 224, 3), (737, 224, 224, 3))"
            ]
          },
          "metadata": {},
          "execution_count": 16
        }
      ]
    },
    {
      "cell_type": "code",
      "source": [
        "#from tensorflow.keras.applications.mobilenet_v2 import MobileNetV2"
      ],
      "metadata": {
        "id": "ucOfCZeE7HcR"
      },
      "execution_count": null,
      "outputs": []
    },
    {
      "cell_type": "code",
      "source": [
        "#base_model = tf.keras.applications.MobileNetV2(input_shape=(32, 32, 3),include_top=False,weights='imagenet')"
      ],
      "metadata": {
        "id": "vw_7Ux8Q6-Gy"
      },
      "execution_count": null,
      "outputs": []
    },
    {
      "cell_type": "code",
      "source": [
        "#print(\"[INFO] summary for base model...\")\n",
        "#print(base_model.summary())"
      ],
      "metadata": {
        "id": "rhyAegmI4DGj"
      },
      "execution_count": null,
      "outputs": []
    },
    {
      "cell_type": "code",
      "source": [
        "from tensorflow.keras.layers import MaxPooling2D\n",
        "from keras.layers.core import Dropout\n",
        "from tensorflow.keras import datasets, layers, models\n",
        "model = models.Sequential()\n",
        "model.add(layers.Conv2D(32, (3, 3), activation='relu', input_shape=(224, 224, 3)))\n",
        "model.add(layers.MaxPooling2D((2, 2)))\n",
        "model.add(layers.Conv2D(64, (3, 3), activation='relu'))\n",
        "model.add(layers.MaxPooling2D((2, 2)))\n",
        "model.add(layers.Conv2D(64, (3, 3), activation='relu'))\n",
        "model.add(layers.Flatten())\n",
        "model.add(layers.Dense(64, activation='relu'))\n",
        "model.add(layers.Dense(6,activation='softmax'))"
      ],
      "metadata": {
        "id": "AXh-BvoG5J5z"
      },
      "execution_count": null,
      "outputs": []
    },
    {
      "cell_type": "code",
      "source": [
        "model.compile(optimizer='adam',\n",
        "              loss=tf.keras.losses.SparseCategoricalCrossentropy(from_logits=True),\n",
        "              metrics=['accuracy'])\n",
        "\n",
        "history = model.fit(xtrain, ytrain, epochs=35, \n",
        "                    validation_data=(xtest, ytest))\n",
        "\n",
        "#model_hist=model.fit(xtrain,ytrain,epochs=5,validation_data=(xtest,ytest),batch_size=180)"
      ],
      "metadata": {
        "id": "Xbq6HJ1U7WUG",
        "colab": {
          "base_uri": "https://localhost:8080/"
        },
        "outputId": "6d976013-4553-4c24-b3ed-aaad87e26bdc"
      },
      "execution_count": null,
      "outputs": [
        {
          "metadata": {
            "tags": null
          },
          "name": "stdout",
          "output_type": "stream",
          "text": [
            "Epoch 1/35\n"
          ]
        },
        {
          "metadata": {
            "tags": null
          },
          "name": "stderr",
          "output_type": "stream",
          "text": [
            "/usr/local/lib/python3.8/dist-packages/tensorflow/python/util/dispatch.py:1082: UserWarning: \"`sparse_categorical_crossentropy` received `from_logits=True`, but the `output` argument was produced by a sigmoid or softmax activation and thus does not represent logits. Was this intended?\"\n",
            "  return dispatch_target(*args, **kwargs)\n"
          ]
        },
        {
          "output_type": "stream",
          "name": "stdout",
          "text": [
            "70/70 [==============================] - 203s 3s/step - loss: 1.4745 - accuracy: 0.4265 - val_loss: 1.1143 - val_accuracy: 0.5631\n",
            "Epoch 2/35\n",
            "70/70 [==============================] - 201s 3s/step - loss: 1.0853 - accuracy: 0.5708 - val_loss: 1.2256 - val_accuracy: 0.4939\n",
            "Epoch 3/35\n",
            "70/70 [==============================] - 200s 3s/step - loss: 0.9492 - accuracy: 0.6359 - val_loss: 1.0738 - val_accuracy: 0.5970\n",
            "Epoch 4/35\n",
            "70/70 [==============================] - 200s 3s/step - loss: 0.8856 - accuracy: 0.6671 - val_loss: 1.1003 - val_accuracy: 0.5753\n",
            "Epoch 5/35\n",
            "70/70 [==============================] - 201s 3s/step - loss: 0.7136 - accuracy: 0.7291 - val_loss: 1.1187 - val_accuracy: 0.5943\n",
            "Epoch 6/35\n",
            "70/70 [==============================] - 200s 3s/step - loss: 0.7329 - accuracy: 0.7341 - val_loss: 1.0818 - val_accuracy: 0.6147\n",
            "Epoch 7/35\n",
            "70/70 [==============================] - 200s 3s/step - loss: 0.4446 - accuracy: 0.8367 - val_loss: 1.2220 - val_accuracy: 0.6323\n",
            "Epoch 8/35\n",
            "70/70 [==============================] - 201s 3s/step - loss: 0.2578 - accuracy: 0.9104 - val_loss: 1.4264 - val_accuracy: 0.6119\n",
            "Epoch 9/35\n",
            "70/70 [==============================] - 201s 3s/step - loss: 0.1400 - accuracy: 0.9512 - val_loss: 1.7095 - val_accuracy: 0.5997\n",
            "Epoch 10/35\n",
            "70/70 [==============================] - 201s 3s/step - loss: 0.1276 - accuracy: 0.9584 - val_loss: 1.8723 - val_accuracy: 0.5997\n",
            "Epoch 11/35\n",
            "70/70 [==============================] - 201s 3s/step - loss: 0.0788 - accuracy: 0.9765 - val_loss: 1.9405 - val_accuracy: 0.6282\n",
            "Epoch 12/35\n",
            "70/70 [==============================] - 202s 3s/step - loss: 0.0554 - accuracy: 0.9851 - val_loss: 2.4594 - val_accuracy: 0.6106\n",
            "Epoch 13/35\n",
            "70/70 [==============================] - 202s 3s/step - loss: 0.0937 - accuracy: 0.9720 - val_loss: 2.3723 - val_accuracy: 0.5536\n",
            "Epoch 14/35\n",
            "70/70 [==============================] - 201s 3s/step - loss: 0.0519 - accuracy: 0.9833 - val_loss: 2.6429 - val_accuracy: 0.6038\n",
            "Epoch 15/35\n",
            "70/70 [==============================] - 201s 3s/step - loss: 0.0714 - accuracy: 0.9778 - val_loss: 2.4629 - val_accuracy: 0.5848\n",
            "Epoch 16/35\n",
            "70/70 [==============================] - 205s 3s/step - loss: 0.0405 - accuracy: 0.9873 - val_loss: 3.0492 - val_accuracy: 0.5780\n",
            "Epoch 17/35\n",
            "70/70 [==============================] - 202s 3s/step - loss: 0.0248 - accuracy: 0.9923 - val_loss: 2.9783 - val_accuracy: 0.5685\n",
            "Epoch 18/35\n",
            "70/70 [==============================] - 202s 3s/step - loss: 0.0205 - accuracy: 0.9964 - val_loss: 3.0902 - val_accuracy: 0.5862\n",
            "Epoch 19/35\n",
            "70/70 [==============================] - 202s 3s/step - loss: 0.0157 - accuracy: 0.9955 - val_loss: 4.0649 - val_accuracy: 0.5726\n",
            "Epoch 20/35\n",
            "70/70 [==============================] - 202s 3s/step - loss: 0.0246 - accuracy: 0.9932 - val_loss: 3.5706 - val_accuracy: 0.5821\n",
            "Epoch 21/35\n",
            "70/70 [==============================] - 201s 3s/step - loss: 0.0160 - accuracy: 0.9946 - val_loss: 3.0250 - val_accuracy: 0.5807\n",
            "Epoch 22/35\n",
            "70/70 [==============================] - 202s 3s/step - loss: 0.0075 - accuracy: 0.9977 - val_loss: 3.4904 - val_accuracy: 0.5984\n",
            "Epoch 23/35\n",
            "70/70 [==============================] - 201s 3s/step - loss: 0.0012 - accuracy: 1.0000 - val_loss: 3.7494 - val_accuracy: 0.6038\n",
            "Epoch 24/35\n",
            "70/70 [==============================] - 200s 3s/step - loss: 3.8742e-04 - accuracy: 1.0000 - val_loss: 3.8201 - val_accuracy: 0.6065\n",
            "Epoch 25/35\n",
            "70/70 [==============================] - 200s 3s/step - loss: 2.4392e-04 - accuracy: 1.0000 - val_loss: 3.8931 - val_accuracy: 0.6106\n",
            "Epoch 26/35\n",
            "70/70 [==============================] - 200s 3s/step - loss: 1.9378e-04 - accuracy: 1.0000 - val_loss: 3.9698 - val_accuracy: 0.6119\n",
            "Epoch 27/35\n",
            "70/70 [==============================] - 200s 3s/step - loss: 1.6084e-04 - accuracy: 1.0000 - val_loss: 4.0325 - val_accuracy: 0.6133\n",
            "Epoch 28/35\n",
            "70/70 [==============================] - 200s 3s/step - loss: 1.3510e-04 - accuracy: 1.0000 - val_loss: 4.0806 - val_accuracy: 0.6079\n",
            "Epoch 29/35\n",
            "70/70 [==============================] - 202s 3s/step - loss: 1.1781e-04 - accuracy: 1.0000 - val_loss: 4.1297 - val_accuracy: 0.6119\n",
            "Epoch 30/35\n",
            "70/70 [==============================] - 202s 3s/step - loss: 1.0306e-04 - accuracy: 1.0000 - val_loss: 4.1733 - val_accuracy: 0.6106\n",
            "Epoch 31/35\n",
            "70/70 [==============================] - 201s 3s/step - loss: 9.1995e-05 - accuracy: 1.0000 - val_loss: 4.2159 - val_accuracy: 0.6092\n",
            "Epoch 32/35\n",
            "70/70 [==============================] - 201s 3s/step - loss: 8.2720e-05 - accuracy: 1.0000 - val_loss: 4.2501 - val_accuracy: 0.6092\n"
          ]
        }
      ]
    },
    {
      "cell_type": "code",
      "source": [
        "model.save(\"weight.h5\")"
      ],
      "metadata": {
        "id": "EADXw3A39Nsd"
      },
      "execution_count": null,
      "outputs": []
    },
    {
      "cell_type": "code",
      "source": [
        "from tensorflow.keras.preprocessing import image\n",
        "# testing the model\n",
        "def testing_image(image_directory):\n",
        "    test_image = image.load_img(image_directory, target_size = (224, 224))\n",
        "    test_image = image.img_to_array(test_image)\n",
        "    test_image = np.expand_dims(test_image, axis = 0)\n",
        "    test_image = test_image/255\n",
        "    result = model.predict(x= test_image)\n",
        "    print(result)\n",
        "    if np.argmax(result)  == 0:        \n",
        "      prediction = 'Crab'\n",
        "    elif np.argmax(result)  == 1:\n",
        "      prediction = 'Shark'\n",
        "    elif np.argmax(result)  == 2:\n",
        "      prediction = 'Penguin'\n",
        "    elif np.argmax(result)  == 3:\n",
        "      prediction = 'Starfish'\n",
        "    elif np.argmax(result)  == 4:\n",
        "      prediction = 'Seahorse' \n",
        "  \n",
        "    else:\n",
        "      prediction = 'Seal'\n",
        "    return prediction"
      ],
      "metadata": {
        "id": "YdR-J2j48dDe"
      },
      "execution_count": null,
      "outputs": []
    },
    {
      "cell_type": "code",
      "source": [
        "print(testing_image('/content/drive/MyDrive/Fish/Star.jpg'))"
      ],
      "metadata": {
        "id": "1t25TdkY7aDI"
      },
      "execution_count": null,
      "outputs": []
    },
    {
      "cell_type": "code",
      "source": [
        "from sklearn.metrics import  confusion_matrix"
      ],
      "metadata": {
        "id": "YWiv9zwh8kWa"
      },
      "execution_count": null,
      "outputs": []
    },
    {
      "cell_type": "code",
      "source": [
        "Y_pred = model.predict_generator(xtest)"
      ],
      "metadata": {
        "id": "h4Ykegj-9iVc"
      },
      "execution_count": null,
      "outputs": []
    },
    {
      "cell_type": "code",
      "source": [
        "y_pred = np.argmax(Y_pred, axis=1)"
      ],
      "metadata": {
        "id": "75dVvO7n91gL"
      },
      "execution_count": null,
      "outputs": []
    },
    {
      "cell_type": "code",
      "source": [
        "print('Confusion Matrix')\n",
        "\n",
        "c=confusion_matrix(ytest, Y_pred)\n",
        "#cm = confusion_matrix(np.where(ytest), Y_pred)"
      ],
      "metadata": {
        "id": "TA1aeKLS-Gq5"
      },
      "execution_count": null,
      "outputs": []
    },
    {
      "cell_type": "code",
      "source": [],
      "metadata": {
        "id": "R0tSc4MI-Jw3"
      },
      "execution_count": null,
      "outputs": []
    }
  ]
}